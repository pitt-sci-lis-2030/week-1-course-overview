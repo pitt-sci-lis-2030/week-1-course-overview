{
 "cells": [
  {
   "cell_type": "markdown",
   "metadata": {},
   "source": [
    "## Week 1 Exercises\n",
    "\n",
    "* Create a new notebook\n",
    "* Add a Markdown Cell at the top\n",
    "* Write a paragraph introducing yourself\n",
    "* Copy the following Python code into the cell and execute it\n",
    "\n",
    "```\n",
    "print(\"Hello World\")\n",
    "```"
   ]
  }
 ],
 "metadata": {
  "kernelspec": {
   "display_name": "Python 3",
   "language": "python",
   "name": "python3"
  },
  "language_info": {
   "codemirror_mode": {
    "name": "ipython",
    "version": 3
   },
   "file_extension": ".py",
   "mimetype": "text/x-python",
   "name": "python",
   "nbconvert_exporter": "python",
   "pygments_lexer": "ipython3",
   "version": "3.8.3"
  }
 },
 "nbformat": 4,
 "nbformat_minor": 4
}
